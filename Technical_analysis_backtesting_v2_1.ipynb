{
  "nbformat": 4,
  "nbformat_minor": 0,
  "metadata": {
    "kernelspec": {
      "name": "python3",
      "display_name": "Python 3"
    },
    "language_info": {
      "codemirror_mode": {
        "name": "ipython",
        "version": 3
      },
      "file_extension": ".py",
      "mimetype": "text/x-python",
      "name": "python",
      "nbconvert_exporter": "python",
      "pygments_lexer": "ipython3",
      "version": "3.7.0"
    },
    "colab": {
      "name": "Technical_analysis_backtesting_v2_1.ipynb",
      "version": "0.3.2",
      "provenance": [],
      "collapsed_sections": [],
      "include_colab_link": true
    },
    "accelerator": "GPU"
  },
  "cells": [
    {
      "cell_type": "markdown",
      "metadata": {
        "id": "view-in-github",
        "colab_type": "text"
      },
      "source": [
        "<a href=\"https://colab.research.google.com/github/econtse1/hello-world/blob/master/Technical_analysis_backtesting_v2_1.ipynb\" target=\"_parent\"><img src=\"https://colab.research.google.com/assets/colab-badge.svg\" alt=\"Open In Colab\"/></a>"
      ]
    },
    {
      "cell_type": "markdown",
      "metadata": {
        "id": "jq5IId7rOe5g",
        "colab_type": "text"
      },
      "source": [
        "# Technical_analysis_back_testing_Email_alerting_v10"
      ]
    },
    {
      "cell_type": "markdown",
      "metadata": {
        "id": "QQB6MmWsOe5h",
        "colab_type": "raw"
      },
      "source": [
        "In this notebook we are going to perform the technical analysis and the back testing of different strategies.\n",
        "\n",
        "We will also demonstrate the use of email alerting on the triggering of trading strategies.\n",
        "\n",
        "Need to have the following packages:\n",
        "\n",
        "-TAlib\n",
        "\n",
        "-yfinance\n",
        "\n",
        "-mpl_finance\n",
        "\n",
        "-Pandas\n",
        "\n",
        "-Numpy\n",
        "\n",
        "-Matplotlib \n",
        "\n",
        "-smtplib"
      ]
    },
    {
      "cell_type": "markdown",
      "metadata": {
        "id": "REN4nDrCOe5i",
        "colab_type": "raw"
      },
      "source": [
        "import sys\n",
        "!{sys.executable} -m pip install \"D:\\TA_Lib-0.4.17-cp37-cp37m-win_amd64.whl\""
      ]
    },
    {
      "cell_type": "markdown",
      "metadata": {
        "id": "uSvLNCgHOe5j",
        "colab_type": "raw"
      },
      "source": [
        "import sys\n",
        "!{sys.executable} -m pip install yfinance --upgrade --no-cache-dir"
      ]
    },
    {
      "cell_type": "markdown",
      "metadata": {
        "id": "iOjnPRXjOe5j",
        "colab_type": "raw"
      },
      "source": [
        "import sys\n",
        "!{sys.executable} -m pip install https://github.com/matplotlib/mpl_finance/archive/master.zip"
      ]
    },
    {
      "cell_type": "code",
      "metadata": {
        "id": "qbpXlDezlI-I",
        "colab_type": "code",
        "colab": {
          "base_uri": "https://localhost:8080/",
          "height": 319
        },
        "outputId": "97446506-936e-472f-9c99-bcf2e662623e"
      },
      "source": [
        "import sys \n",
        "!{sys.executable} -m pip install https://github.com/matplotlib/mpl_finance/archive/master.zip"
      ],
      "execution_count": 18,
      "outputs": [
        {
          "output_type": "stream",
          "text": [
            "Collecting https://github.com/matplotlib/mpl_finance/archive/master.zip\n",
            "\u001b[?25l  Downloading https://github.com/matplotlib/mpl_finance/archive/master.zip\n",
            "\u001b[K     / 491kB 2.8MB/s\n",
            "\u001b[?25hRequirement already satisfied: matplotlib in /usr/local/lib/python3.6/dist-packages (from mpl-finance==0.10.0) (3.0.3)\n",
            "Requirement already satisfied: pyparsing!=2.0.4,!=2.1.2,!=2.1.6,>=2.0.1 in /usr/local/lib/python3.6/dist-packages (from matplotlib->mpl-finance==0.10.0) (2.4.2)\n",
            "Requirement already satisfied: kiwisolver>=1.0.1 in /usr/local/lib/python3.6/dist-packages (from matplotlib->mpl-finance==0.10.0) (1.1.0)\n",
            "Requirement already satisfied: numpy>=1.10.0 in /usr/local/lib/python3.6/dist-packages (from matplotlib->mpl-finance==0.10.0) (1.16.5)\n",
            "Requirement already satisfied: python-dateutil>=2.1 in /usr/local/lib/python3.6/dist-packages (from matplotlib->mpl-finance==0.10.0) (2.5.3)\n",
            "Requirement already satisfied: cycler>=0.10 in /usr/local/lib/python3.6/dist-packages (from matplotlib->mpl-finance==0.10.0) (0.10.0)\n",
            "Requirement already satisfied: setuptools in /usr/local/lib/python3.6/dist-packages (from kiwisolver>=1.0.1->matplotlib->mpl-finance==0.10.0) (41.2.0)\n",
            "Requirement already satisfied: six>=1.5 in /usr/local/lib/python3.6/dist-packages (from python-dateutil>=2.1->matplotlib->mpl-finance==0.10.0) (1.12.0)\n",
            "Building wheels for collected packages: mpl-finance\n",
            "  Building wheel for mpl-finance (setup.py) ... \u001b[?25l\u001b[?25hdone\n",
            "  Created wheel for mpl-finance: filename=mpl_finance-0.10.0-cp36-none-any.whl size=5509 sha256=7863cb9ac1a8a94ecedb1afa8c569d980be2ad9808981054b26e664345ecec9c\n",
            "  Stored in directory: /tmp/pip-ephem-wheel-cache-vqwpaqcz/wheels/8f/bf/8a/6c858b2a3be945c7b2d658fbf6ab797b451d686cbee8aa2679\n",
            "Successfully built mpl-finance\n",
            "Installing collected packages: mpl-finance\n",
            "Successfully installed mpl-finance-0.10.0\n"
          ],
          "name": "stdout"
        }
      ]
    },
    {
      "cell_type": "code",
      "metadata": {
        "id": "Wj9_UpKUh_RS",
        "colab_type": "code",
        "colab": {}
      },
      "source": [
        "import sys\n",
        "import pandas as pd\n",
        "from matplotlib import pyplot as plt\n",
        "import seaborn as sns\n",
        "sns.set()\n",
        "!{sys.executable} -m pip install yfinance\n",
        "import yfinance as yf\n",
        "\n",
        "!wget http://prdownloads.sourceforge.net/ta-lib/ta-lib-0.4.0-src.tar.gz\n",
        "!tar -xzvf ta-lib-0.4.0-src.tar.gz\n",
        "%cd ta-lib\n",
        "!./configure --prefix=/usr\n",
        "!make\n",
        "!make install\n",
        "!pip install Ta-Lib\n",
        "import talib\n"
      ],
      "execution_count": 0,
      "outputs": []
    },
    {
      "cell_type": "code",
      "metadata": {
        "id": "o8KkQQ54eLhe",
        "colab_type": "code",
        "colab": {}
      },
      "source": [
        "import sys\n",
        "!wget http://prdownloads.sourceforge.net/ta-lib/ta-lib-0.4.0-src.tar.gz\n",
        "!tar -xzvf ta-lib-0.4.0-src.tar.gz\n",
        "%cd ta-lib\n",
        "!,/configure --prefix=/usr\n",
        "!make\n",
        "!make install\n",
        "!pip install ta-lib\n",
        "import talib"
      ],
      "execution_count": 0,
      "outputs": []
    },
    {
      "cell_type": "code",
      "metadata": {
        "id": "Bg6tONRqOqmf",
        "colab_type": "code",
        "colab": {}
      },
      "source": [
        "pip install yfinance\n"
      ],
      "execution_count": 0,
      "outputs": []
    },
    {
      "cell_type": "code",
      "metadata": {
        "id": "dfYXi5T-Oe5k",
        "colab_type": "code",
        "colab": {}
      },
      "source": [
        "import pandas as pd\n",
        "import os\n",
        "import numpy as np\n",
        "import matplotlib.pyplot as plt\n",
        "import matplotlib.dates as mdates\n",
        "import yfinance as yf \n",
        "import talib as TA"
      ],
      "execution_count": 0,
      "outputs": []
    },
    {
      "cell_type": "code",
      "metadata": {
        "id": "DANFXoL-Oe5n",
        "colab_type": "code",
        "colab": {}
      },
      "source": [
        "L1=\"^HSI\""
      ],
      "execution_count": 0,
      "outputs": []
    },
    {
      "cell_type": "code",
      "metadata": {
        "id": "hyjGKgvlOe5p",
        "colab_type": "code",
        "colab": {}
      },
      "source": [
        "def ohlc_gen(stock_code,from1):\n",
        "    import yfinance as yf\n",
        "    import talib as TA\n",
        "    import matplotlib.dates as mdates\n",
        "    L=[]\n",
        "    #Fetch daily stock data \n",
        "    data = yf.download(stock_code,from1)\n",
        "    data[\"Date\"]=data.index\n",
        "    data[\"Week\"]=data[\"Date\"].dt.week\n",
        "    #Create weekly data from daily data\n",
        "    data_weekly=data[data.index>=from1].groupby([\"Week\"]).agg(\n",
        "        {'Open':'first', 'High':'max', 'Low':'min', 'Close':'last','Volume':'sum'})\n",
        "    #Add TA in daily and weekly data\n",
        "    data_weekly[\"Week\"]=data_weekly.index\n",
        "    data[\"EMA9\"]=TA.EMA(data[\"Close\"],9)\n",
        "    data[\"EMA19\"]=TA.EMA(data[\"Close\"],19)\n",
        "    data[\"EMA50\"]=TA.EMA(data[\"Close\"],50)\n",
        "    data[\"RSI9\"]=TA.RSI(data[\"Close\"],9)\n",
        "    data[\"macd\"], data[\"macdsignal\"], data[\"macdhist\"] = TA.MACD(data[\"Close\"], \n",
        "                                                           fastperiod=12, \n",
        "                                                           slowperiod=26, signalperiod=9)\n",
        "       \n",
        "    data_weekly[\"EMA9\"]=TA.EMA(data_weekly[\"Close\"],9)\n",
        "    data_weekly[\"EMA19\"]=TA.EMA(data_weekly[\"Close\"],19)\n",
        "    data_weekly[\"EMA50\"]=TA.EMA(data_weekly[\"Close\"],50)\n",
        "    #Construct filtered daily and weekly data for chart generation\n",
        "    ohlc= data[data.index>=from1][['Date', 'Open', 'High', 'Low',\n",
        "                                   'Close','EMA9','EMA19','EMA50',\"RSI9\",\"macd\",\"macdsignal\",\n",
        "                                   \"macdhist\",'Volume']].copy()\n",
        "    ohlc[\"Date\"] = ohlc[\"Date\"].apply(mdates.date2num)\n",
        "    ohlc_weekly= data_weekly[['Week', 'Open', 'High', 'Low',\n",
        "                              'Close','EMA9','EMA19','EMA50','Volume']].copy()\n",
        "    \n",
        "    L.append(data)\n",
        "    L.append(ohlc)\n",
        "    L.append(ohlc_weekly)\n",
        "    return(L)"
      ],
      "execution_count": 0,
      "outputs": []
    },
    {
      "cell_type": "code",
      "metadata": {
        "id": "mUegg7hsOe5r",
        "colab_type": "code",
        "outputId": "64494b37-ff1d-47bd-cf38-4a823e0e5d69",
        "colab": {
          "base_uri": "https://localhost:8080/",
          "height": 34
        }
      },
      "source": [
        "L=ohlc_gen(\"^HSI\",from1=\"2018-01-01\")"
      ],
      "execution_count": 11,
      "outputs": [
        {
          "output_type": "stream",
          "text": [
            "\r[*********************100%***********************]  1 of 1 downloaded\n"
          ],
          "name": "stdout"
        }
      ]
    },
    {
      "cell_type": "code",
      "metadata": {
        "id": "dy-PkBOuOe5u",
        "colab_type": "code",
        "colab": {}
      },
      "source": [
        "L[0]"
      ],
      "execution_count": 0,
      "outputs": []
    },
    {
      "cell_type": "code",
      "metadata": {
        "id": "H1mGUoEKOe5x",
        "colab_type": "code",
        "colab": {}
      },
      "source": [
        "def candlestick_gen1(ohlc,df=None,list_buy=None,list_sell=None,path1=None):\n",
        "    import matplotlib.pyplot as plt\n",
        "    %matplotlib inline\n",
        "    from mpl_finance import candlestick_ohlc\n",
        "    import matplotlib.dates as mdates\n",
        "    \n",
        "    fig = plt.figure(figsize = (15,10))\n",
        "\n",
        "    ax1 = plt.subplot2grid((6,4), (0,0), rowspan=3, colspan=4)\n",
        "    ax1.plot(ohlc[\"Date\"],ohlc[\"EMA9\"],color=\"blue\",label=\"EMA9\",linewidth=1)\n",
        "    ax1.plot(ohlc[\"Date\"],ohlc[\"EMA19\"],color=\"red\",label=\"EMA19\",linewidth=1)\n",
        "    ax1.plot(ohlc[\"Date\"],ohlc[\"EMA50\"],color=\"brown\",label=\"EMA50\",linewidth=1)\n",
        "    ax1.grid(True)\n",
        "    candlestick_ohlc(ax1, ohlc.values, width=.4, \n",
        "                     colorup='#53c156', colordown='#ff1717')\n",
        "    \n",
        "    ax1.xaxis.set_major_formatter(mdates.DateFormatter('%m-%d'))\n",
        "    ax1.legend([\"Daily\"])\n",
        "    \n",
        "    ax1_RSI = plt.subplot2grid((6,4), (3,0), sharex=ax1, rowspan=1, colspan=4)\n",
        "    #ax1_RSI.axes.yaxis.set_ticklabels([\"RSI9\"])\n",
        "    ax1_RSI.grid(True)\n",
        "    ax1_RSI.set_ylim(0, ohlc[\"RSI9\"].max()+10)\n",
        "    ax1_RSI.plot(ohlc[\"Date\"].values,ohlc[\"RSI9\"].values,color=\"red\",label=\"RSI9\")\n",
        "  \n",
        "\n",
        "    ax1_MACD = plt.subplot2grid((6,4), (4,0), sharex=ax1, rowspan=1, colspan=4)\n",
        "    \n",
        "    ax1_MACD.grid(True)\n",
        "    ax1_MACD.set_ylim(ohlc[\"macd\"].min()-100, ohlc[\"macd\"].max()+100)\n",
        "    ax1_MACD.plot(ohlc[\"Date\"].values,ohlc[\"macd\"].values,color=\"red\",label=\"macd\")\n",
        "    ax1_MACD.plot(ohlc[\"Date\"].values,ohlc[\"macdsignal\"].values,color=\"blue\",label=\"macdsignal\")\n",
        "    ax1_MACD.plot(ohlc[\"Date\"].values,ohlc[\"macdhist\"].values,color=\"black\",label=\"macdhist\")\n",
        "    \n",
        "    \n",
        "    ax1v = plt.subplot2grid((6,4), (5,0), sharex=ax1, rowspan=1, colspan=4)\n",
        "    ax1v.axes.yaxis.set_ticklabels([\"Volume\"])\n",
        "    ax1v.grid(False)\n",
        "    ax1v.set_ylim(0, ohlc[\"Volume\"].max())\n",
        "    ax1v.bar(ohlc[\"Date\"].values,ohlc\n",
        "             [\"Volume\"].values)\n",
        "    \n",
        "    plt.setp(ax1.get_xticklabels(), visible=False)\n",
        "    plt.setp(ax1_RSI.get_xticklabels(), visible=False)\n",
        "\n",
        "\n",
        "    plt.subplots_adjust(hspace=0)\n",
        "    \n",
        "    ax1.legend(loc=\"upper left\")\n",
        "    ax1_RSI.legend(loc=\"upper left\")\n",
        "    ax1_MACD.legend(loc=\"upper left\")\n",
        "    \n",
        "    if list_buy is not None:\n",
        "            if len(list_buy)>0:\n",
        "                list_buy1=[i for i in list_buy if ((i>=df[\"Date\"][0]) & (i<=df[\"Date\"][-1]))]\n",
        "                \n",
        "                for x1 in list_buy1:\n",
        "                    ax1.axvline(x1,color=\"blue\",linestyle=\"--\")\n",
        "        \n",
        "    if list_sell is not None:\n",
        "            if len(list_sell)>0:\n",
        "                list_sell1=[i for i in list_sell if ((i>=df[\"Date\"][0]) & (i<=df[\"Date\"][-1]))]\n",
        "                \n",
        "                for x1 in list_sell1:\n",
        "                    ax1.axvline(x1,color=\"red\",linestyle=\"--\")\n",
        "    \n",
        "    if path1 is not None:\n",
        "        plt.savefig(path1)\n",
        "\n",
        "\n",
        "    plt.show()\n",
        "    \n",
        "    "
      ],
      "execution_count": 0,
      "outputs": []
    },
    {
      "cell_type": "code",
      "metadata": {
        "id": "s0zrgYoaOe5z",
        "colab_type": "code",
        "outputId": "a0db4b5e-3f9d-4f82-9227-9577ff4e9fcc",
        "colab": {
          "base_uri": "https://localhost:8080/",
          "height": 34
        }
      },
      "source": [
        "#df=yf.download(L1,'2017-01-01')\n",
        "OHLC_L=ohlc_gen(L1,\"2017-01-01\")\n",
        "OHLC=OHLC_L[1]\n",
        "data=OHLC_L[0]\n",
        "    \n",
        "#candlestick_gen1(OHLC)"
      ],
      "execution_count": 14,
      "outputs": [
        {
          "output_type": "stream",
          "text": [
            "\r[*********************100%***********************]  1 of 1 downloaded\n"
          ],
          "name": "stdout"
        }
      ]
    },
    {
      "cell_type": "code",
      "metadata": {
        "id": "zPwVwJSaOe51",
        "colab_type": "code",
        "colab": {}
      },
      "source": [
        "OHLC.head()"
      ],
      "execution_count": 0,
      "outputs": []
    },
    {
      "cell_type": "code",
      "metadata": {
        "id": "1zSfWK6XOe53",
        "colab_type": "code",
        "outputId": "c8885e9e-6513-4ce8-f5ed-356950ef4913",
        "colab": {
          "base_uri": "https://localhost:8080/",
          "height": 600
        }
      },
      "source": [
        "candlestick_gen1(OHLC.loc[\"2019-01-01\":])"
      ],
      "execution_count": 19,
      "outputs": [
        {
          "output_type": "display_data",
          "data": {
            "image/png": "[encoded data removed]",
            "text/plain": [
              "<Figure size 1080x720 with 4 Axes>"
            ]
          },
          "metadata": {
            "tags": []
          }
        }
      ]
    },
    {
      "cell_type": "code",
      "metadata": {
        "id": "abBwOwHzOe55",
        "colab_type": "code",
        "colab": {}
      },
      "source": [
        "data1=data.loc[\"2018-01-01\":].copy()"
      ],
      "execution_count": 0,
      "outputs": []
    },
    {
      "cell_type": "markdown",
      "metadata": {
        "id": "0BLAkLf3Oe57",
        "colab_type": "text"
      },
      "source": [
        "# Backtesting"
      ]
    },
    {
      "cell_type": "code",
      "metadata": {
        "id": "QwkjY7PJOe58",
        "colab_type": "code",
        "colab": {}
      },
      "source": [
        "def cross_over_up(df,TA1,TA2):\n",
        "    TA1_TA2=np.where((df[TA1]-df[TA2])>0,1,0)\n",
        "    Enter1=np.pad(np.where(np.diff(TA1_TA2)==1,1,0),(1,0),\"constant\")\n",
        "    Enter=pd.Series(Enter1,index=list(df.index))\n",
        "    return(Enter)"
      ],
      "execution_count": 0,
      "outputs": []
    },
    {
      "cell_type": "code",
      "metadata": {
        "id": "m_gkJFHUOe5-",
        "colab_type": "code",
        "colab": {}
      },
      "source": [
        "def cross_over_down(df,TA1,TA2):\n",
        "    TA1_TA2=np.where((df[TA1]-df[TA2])<0,1,0)\n",
        "    Enter1=np.pad(np.where(np.diff(TA1_TA2)==1,1,0),(1,0),\"constant\")\n",
        "    Enter=pd.Series(Enter1,index=list(df.index))\n",
        "    return(Enter)"
      ],
      "execution_count": 0,
      "outputs": []
    },
    {
      "cell_type": "code",
      "metadata": {
        "id": "d8NXVfTbOe6A",
        "colab_type": "code",
        "colab": {}
      },
      "source": [
        "def EMA_diff_up(df,TA1,TA2,threshold=100):\n",
        "    Enter1=np.where((df[TA1]-df[TA2])>threshold,1,0)\n",
        "    Enter=pd.Series(Enter1,index=list(df.index))\n",
        "    return(Enter)"
      ],
      "execution_count": 0,
      "outputs": []
    },
    {
      "cell_type": "code",
      "metadata": {
        "id": "Plr00e2UOe6D",
        "colab_type": "code",
        "colab": {}
      },
      "source": [
        "def strategy(df,enter,exit,long):\n",
        "    buy_date=[]\n",
        "    sell_date=[]\n",
        "    price_buy=[]\n",
        "    price_sell=[]\n",
        "    for i in enter.index[enter==1]:\n",
        "        try:\n",
        "            date1=df.index[df.index>i][0]\n",
        "        except:\n",
        "            next\n",
        "        \n",
        "        if date1 is not None:\n",
        "            try:\n",
        "                test=exit[exit==1]\n",
        "                test1=test[test.index>=date1].index[0]\n",
        "                test2=df.index[df.index>test1][0]\n",
        "            except:\n",
        "                test2=None\n",
        "        else:\n",
        "            test2=None\n",
        "        buy_date.append(date1)\n",
        "        sell_date.append(test2)\n",
        "        \n",
        "    for i in buy_date:\n",
        "        if i is not None:\n",
        "            price=df.loc[i][\"Open\"]\n",
        "            price_buy.append(price)\n",
        "        else:\n",
        "            price_buy.append(None)\n",
        "        \n",
        "    \n",
        "    for i in sell_date:\n",
        "        if i is not None:\n",
        "            price=df.loc[i][\"Open\"]\n",
        "            price_sell.append(price)\n",
        "        else:\n",
        "            price_sell.append(None)\n",
        "        \n",
        "    d1=pd.DataFrame({\"Date_Buy\":buy_date,\n",
        "                    \"Date_Sell\":sell_date,\n",
        "                    \"Price_Buy\":price_buy,\n",
        "                    \"Price_Sell\":price_sell})   \n",
        "    if long==1:\n",
        "        d1[\"Gain\"]=d1[\"Price_Sell\"]-d1[\"Price_Buy\"]\n",
        "        d1[\"Return\"]=100*(d1[\"Price_Sell\"]-d1[\"Price_Buy\"])/d1[\"Price_Buy\"]\n",
        "        d1[\"Position\"]=\"long\"\n",
        "    else:\n",
        "        d1[\"Gain\"]=d1[\"Price_Buy\"]-d1[\"Price_Sell\"]\n",
        "        d1[\"Return\"]=100*(d1[\"Price_Buy\"]-d1[\"Price_Sell\"])/d1[\"Price_Buy\"]\n",
        "        d1[\"Position\"]=\"short\"\n",
        "    d1.index=d1[\"Date_Buy\"]\n",
        "    return(d1)"
      ],
      "execution_count": 0,
      "outputs": []
    },
    {
      "cell_type": "markdown",
      "metadata": {
        "id": "H8iIpAhzOe6G",
        "colab_type": "text"
      },
      "source": [
        "## EMA cross over strategy"
      ]
    },
    {
      "cell_type": "markdown",
      "metadata": {
        "id": "UITF5wPLOe6H",
        "colab_type": "raw"
      },
      "source": [
        "Long:\n",
        "\n",
        "Enter: when EMA9 cross over up EMA19\n",
        "\n",
        "Exit: when EMA9 cross over down EMA19\n",
        "\n",
        "Short:\n",
        "\n",
        "Enter: when EMA9 cross over down EMA19\n",
        "\n",
        "Exit: when EMA9 cross over up EMA19"
      ]
    },
    {
      "cell_type": "code",
      "metadata": {
        "id": "ZU6yBRdnOe6H",
        "colab_type": "code",
        "colab": {}
      },
      "source": [
        "enter=cross_over_up(data1,\"EMA9\",\"EMA19\")\n",
        "exit=cross_over_down(data1,\"EMA9\",\"EMA19\")"
      ],
      "execution_count": 0,
      "outputs": []
    },
    {
      "cell_type": "code",
      "metadata": {
        "id": "FPgEcNIfOe6K",
        "colab_type": "code",
        "outputId": "da1c81b2-f2e1-4033-e980-4572e8043338",
        "colab": {
          "base_uri": "https://localhost:8080/",
          "height": 1000
        }
      },
      "source": [
        "enter"
      ],
      "execution_count": 26,
      "outputs": [
        {
          "output_type": "execute_result",
          "data": {
            "text/plain": [
              "2018-01-02    0\n",
              "2018-01-03    0\n",
              "2018-01-04    0\n",
              "2018-01-05    0\n",
              "2018-01-08    0\n",
              "2018-01-09    0\n",
              "2018-01-10    0\n",
              "2018-01-11    0\n",
              "2018-01-12    0\n",
              "2018-01-15    0\n",
              "2018-01-16    0\n",
              "2018-01-17    0\n",
              "2018-01-18    0\n",
              "2018-01-19    0\n",
              "2018-01-22    0\n",
              "2018-01-23    0\n",
              "2018-01-24    0\n",
              "2018-01-25    0\n",
              "2018-01-26    0\n",
              "2018-01-29    0\n",
              "2018-01-30    0\n",
              "2018-01-31    0\n",
              "2018-02-01    0\n",
              "2018-02-02    0\n",
              "2018-02-05    0\n",
              "2018-02-06    0\n",
              "2018-02-07    0\n",
              "2018-02-08    0\n",
              "2018-02-09    0\n",
              "2018-02-12    0\n",
              "             ..\n",
              "2019-07-31    0\n",
              "2019-08-01    0\n",
              "2019-08-02    0\n",
              "2019-08-05    0\n",
              "2019-08-06    0\n",
              "2019-08-07    0\n",
              "2019-08-08    0\n",
              "2019-08-09    0\n",
              "2019-08-12    0\n",
              "2019-08-13    0\n",
              "2019-08-14    0\n",
              "2019-08-15    0\n",
              "2019-08-16    0\n",
              "2019-08-19    0\n",
              "2019-08-20    0\n",
              "2019-08-21    0\n",
              "2019-08-22    0\n",
              "2019-08-23    0\n",
              "2019-08-26    0\n",
              "2019-08-27    0\n",
              "2019-08-28    0\n",
              "2019-08-29    0\n",
              "2019-08-30    0\n",
              "2019-09-02    0\n",
              "2019-09-03    0\n",
              "2019-09-04    0\n",
              "2019-09-05    0\n",
              "2019-09-06    0\n",
              "2019-09-09    1\n",
              "2019-09-10    0\n",
              "Length: 416, dtype: int64"
            ]
          },
          "metadata": {
            "tags": []
          },
          "execution_count": 26
        }
      ]
    },
    {
      "cell_type": "code",
      "metadata": {
        "id": "TIY628uAOe6M",
        "colab_type": "code",
        "colab": {}
      },
      "source": [
        "enter[enter==1].index.astype(str).tolist()"
      ],
      "execution_count": 0,
      "outputs": []
    },
    {
      "cell_type": "code",
      "metadata": {
        "id": "ZJ3aDsS7Oe6O",
        "colab_type": "code",
        "colab": {}
      },
      "source": [
        "exit[exit==1].index.astype(str).tolist()"
      ],
      "execution_count": 0,
      "outputs": []
    },
    {
      "cell_type": "code",
      "metadata": {
        "id": "ND1WBIoDOe6R",
        "colab_type": "code",
        "colab": {}
      },
      "source": [
        "df=strategy(data1,enter,exit,1)\n",
        "df\n"
      ],
      "execution_count": 0,
      "outputs": []
    },
    {
      "cell_type": "code",
      "metadata": {
        "id": "o_kjHDCVOe6V",
        "colab_type": "code",
        "colab": {}
      },
      "source": [
        "buy_list=df.index.tolist()"
      ],
      "execution_count": 0,
      "outputs": []
    },
    {
      "cell_type": "code",
      "metadata": {
        "id": "AG0SXMUVOe6W",
        "colab_type": "code",
        "colab": {}
      },
      "source": [
        "df1=strategy(data1,exit,enter,0)\n",
        "df1"
      ],
      "execution_count": 0,
      "outputs": []
    },
    {
      "cell_type": "code",
      "metadata": {
        "id": "hQjICIStOe6Z",
        "colab_type": "code",
        "colab": {}
      },
      "source": [
        "sell_list=df1.index.tolist()"
      ],
      "execution_count": 0,
      "outputs": []
    },
    {
      "cell_type": "code",
      "metadata": {
        "id": "d7UAH-rKOe6b",
        "colab_type": "code",
        "colab": {}
      },
      "source": [
        "df_sum=pd.concat([df,df1],axis=0)\n",
        "df_sum=df_sum.sort_index(ascending=True)\n"
      ],
      "execution_count": 0,
      "outputs": []
    },
    {
      "cell_type": "code",
      "metadata": {
        "id": "dMRSmPhKOe6e",
        "colab_type": "code",
        "outputId": "ace4b71d-fa5c-480b-faae-eb7c0d547413",
        "colab": {
          "base_uri": "https://localhost:8080/",
          "height": 728
        }
      },
      "source": [
        "df_sum"
      ],
      "execution_count": 34,
      "outputs": [
        {
          "output_type": "execute_result",
          "data": {
            "text/html": [
              "<div>\n",
              "<style scoped>\n",
              "    .dataframe tbody tr th:only-of-type {\n",
              "        vertical-align: middle;\n",
              "    }\n",
              "\n",
              "    .dataframe tbody tr th {\n",
              "        vertical-align: top;\n",
              "    }\n",
              "\n",
              "    .dataframe thead th {\n",
              "        text-align: right;\n",
              "    }\n",
              "</style>\n",
              "<table border=\"1\" class=\"dataframe\">\n",
              "  <thead>\n",
              "    <tr style=\"text-align: right;\">\n",
              "      <th></th>\n",
              "      <th>Date_Buy</th>\n",
              "      <th>Date_Sell</th>\n",
              "      <th>Price_Buy</th>\n",
              "      <th>Price_Sell</th>\n",
              "      <th>Gain</th>\n",
              "      <th>Return</th>\n",
              "      <th>Position</th>\n",
              "    </tr>\n",
              "    <tr>\n",
              "      <th>Date_Buy</th>\n",
              "      <th></th>\n",
              "      <th></th>\n",
              "      <th></th>\n",
              "      <th></th>\n",
              "      <th></th>\n",
              "      <th></th>\n",
              "      <th></th>\n",
              "    </tr>\n",
              "  </thead>\n",
              "  <tbody>\n",
              "    <tr>\n",
              "      <th>2018-02-08</th>\n",
              "      <td>2018-02-08</td>\n",
              "      <td>2018-03-14</td>\n",
              "      <td>30555.80</td>\n",
              "      <td>31321.79</td>\n",
              "      <td>-765.99</td>\n",
              "      <td>-2.506856</td>\n",
              "      <td>short</td>\n",
              "    </tr>\n",
              "    <tr>\n",
              "      <th>2018-03-14</th>\n",
              "      <td>2018-03-14</td>\n",
              "      <td>2018-03-26</td>\n",
              "      <td>31321.79</td>\n",
              "      <td>30267.07</td>\n",
              "      <td>-1054.72</td>\n",
              "      <td>-3.367368</td>\n",
              "      <td>long</td>\n",
              "    </tr>\n",
              "    <tr>\n",
              "      <th>2018-03-26</th>\n",
              "      <td>2018-03-26</td>\n",
              "      <td>2018-05-11</td>\n",
              "      <td>30267.07</td>\n",
              "      <td>31151.80</td>\n",
              "      <td>-884.73</td>\n",
              "      <td>-2.923078</td>\n",
              "      <td>short</td>\n",
              "    </tr>\n",
              "    <tr>\n",
              "      <th>2018-05-11</th>\n",
              "      <td>2018-05-11</td>\n",
              "      <td>2018-05-31</td>\n",
              "      <td>31151.80</td>\n",
              "      <td>30274.18</td>\n",
              "      <td>-877.62</td>\n",
              "      <td>-2.817237</td>\n",
              "      <td>long</td>\n",
              "    </tr>\n",
              "    <tr>\n",
              "      <th>2018-05-31</th>\n",
              "      <td>2018-05-31</td>\n",
              "      <td>2018-06-06</td>\n",
              "      <td>30274.18</td>\n",
              "      <td>31162.02</td>\n",
              "      <td>-887.84</td>\n",
              "      <td>-2.932664</td>\n",
              "      <td>short</td>\n",
              "    </tr>\n",
              "    <tr>\n",
              "      <th>2018-06-06</th>\n",
              "      <td>2018-06-06</td>\n",
              "      <td>2018-06-19</td>\n",
              "      <td>31162.02</td>\n",
              "      <td>29999.01</td>\n",
              "      <td>-1163.01</td>\n",
              "      <td>-3.732139</td>\n",
              "      <td>long</td>\n",
              "    </tr>\n",
              "    <tr>\n",
              "      <th>2018-06-19</th>\n",
              "      <td>2018-06-19</td>\n",
              "      <td>2018-08-30</td>\n",
              "      <td>29999.01</td>\n",
              "      <td>28533.93</td>\n",
              "      <td>1465.08</td>\n",
              "      <td>4.883761</td>\n",
              "      <td>short</td>\n",
              "    </tr>\n",
              "    <tr>\n",
              "      <th>2018-08-30</th>\n",
              "      <td>2018-08-30</td>\n",
              "      <td>2018-09-04</td>\n",
              "      <td>28533.93</td>\n",
              "      <td>27619.18</td>\n",
              "      <td>-914.75</td>\n",
              "      <td>-3.205832</td>\n",
              "      <td>long</td>\n",
              "    </tr>\n",
              "    <tr>\n",
              "      <th>2018-09-04</th>\n",
              "      <td>2018-09-04</td>\n",
              "      <td>2018-09-27</td>\n",
              "      <td>27619.18</td>\n",
              "      <td>27912.51</td>\n",
              "      <td>-293.33</td>\n",
              "      <td>-1.062052</td>\n",
              "      <td>short</td>\n",
              "    </tr>\n",
              "    <tr>\n",
              "      <th>2018-09-27</th>\n",
              "      <td>2018-09-27</td>\n",
              "      <td>2018-10-04</td>\n",
              "      <td>27912.51</td>\n",
              "      <td>27029.40</td>\n",
              "      <td>-883.11</td>\n",
              "      <td>-3.163850</td>\n",
              "      <td>long</td>\n",
              "    </tr>\n",
              "    <tr>\n",
              "      <th>2018-10-04</th>\n",
              "      <td>2018-10-04</td>\n",
              "      <td>2018-11-09</td>\n",
              "      <td>27029.40</td>\n",
              "      <td>25925.09</td>\n",
              "      <td>1104.31</td>\n",
              "      <td>4.085588</td>\n",
              "      <td>short</td>\n",
              "    </tr>\n",
              "    <tr>\n",
              "      <th>2018-11-09</th>\n",
              "      <td>2018-11-09</td>\n",
              "      <td>2018-11-13</td>\n",
              "      <td>25925.09</td>\n",
              "      <td>25092.30</td>\n",
              "      <td>-832.79</td>\n",
              "      <td>-3.212294</td>\n",
              "      <td>long</td>\n",
              "    </tr>\n",
              "    <tr>\n",
              "      <th>2018-11-13</th>\n",
              "      <td>2018-11-13</td>\n",
              "      <td>2018-11-16</td>\n",
              "      <td>25092.30</td>\n",
              "      <td>26041.56</td>\n",
              "      <td>-949.26</td>\n",
              "      <td>-3.783073</td>\n",
              "      <td>short</td>\n",
              "    </tr>\n",
              "    <tr>\n",
              "      <th>2018-11-16</th>\n",
              "      <td>2018-11-16</td>\n",
              "      <td>2018-12-12</td>\n",
              "      <td>26041.56</td>\n",
              "      <td>26054.01</td>\n",
              "      <td>12.45</td>\n",
              "      <td>0.047808</td>\n",
              "      <td>long</td>\n",
              "    </tr>\n",
              "    <tr>\n",
              "      <th>2018-12-12</th>\n",
              "      <td>2018-12-12</td>\n",
              "      <td>2018-12-14</td>\n",
              "      <td>26054.01</td>\n",
              "      <td>26219.00</td>\n",
              "      <td>-164.99</td>\n",
              "      <td>-0.633261</td>\n",
              "      <td>short</td>\n",
              "    </tr>\n",
              "    <tr>\n",
              "      <th>2018-12-14</th>\n",
              "      <td>2018-12-14</td>\n",
              "      <td>2018-12-17</td>\n",
              "      <td>26219.00</td>\n",
              "      <td>26178.04</td>\n",
              "      <td>-40.96</td>\n",
              "      <td>-0.156223</td>\n",
              "      <td>long</td>\n",
              "    </tr>\n",
              "    <tr>\n",
              "      <th>2018-12-17</th>\n",
              "      <td>2018-12-17</td>\n",
              "      <td>2019-01-11</td>\n",
              "      <td>26178.04</td>\n",
              "      <td>26692.02</td>\n",
              "      <td>-513.98</td>\n",
              "      <td>-1.963401</td>\n",
              "      <td>short</td>\n",
              "    </tr>\n",
              "    <tr>\n",
              "      <th>2019-01-11</th>\n",
              "      <td>2019-01-11</td>\n",
              "      <td>2019-05-08</td>\n",
              "      <td>26692.02</td>\n",
              "      <td>28987.09</td>\n",
              "      <td>2295.07</td>\n",
              "      <td>8.598338</td>\n",
              "      <td>long</td>\n",
              "    </tr>\n",
              "    <tr>\n",
              "      <th>2019-05-08</th>\n",
              "      <td>2019-05-08</td>\n",
              "      <td>2019-06-21</td>\n",
              "      <td>28987.09</td>\n",
              "      <td>28581.51</td>\n",
              "      <td>405.58</td>\n",
              "      <td>1.399175</td>\n",
              "      <td>short</td>\n",
              "    </tr>\n",
              "    <tr>\n",
              "      <th>2019-06-21</th>\n",
              "      <td>2019-06-21</td>\n",
              "      <td>2019-07-31</td>\n",
              "      <td>28581.51</td>\n",
              "      <td>27931.28</td>\n",
              "      <td>-650.23</td>\n",
              "      <td>-2.275002</td>\n",
              "      <td>long</td>\n",
              "    </tr>\n",
              "    <tr>\n",
              "      <th>2019-07-31</th>\n",
              "      <td>2019-07-31</td>\n",
              "      <td>2019-09-10</td>\n",
              "      <td>27931.28</td>\n",
              "      <td>26831.98</td>\n",
              "      <td>1099.30</td>\n",
              "      <td>3.935731</td>\n",
              "      <td>short</td>\n",
              "    </tr>\n",
              "    <tr>\n",
              "      <th>2019-09-10</th>\n",
              "      <td>2019-09-10</td>\n",
              "      <td>NaT</td>\n",
              "      <td>26831.98</td>\n",
              "      <td>NaN</td>\n",
              "      <td>NaN</td>\n",
              "      <td>NaN</td>\n",
              "      <td>long</td>\n",
              "    </tr>\n",
              "  </tbody>\n",
              "</table>\n",
              "</div>"
            ],
            "text/plain": [
              "             Date_Buy  Date_Sell  Price_Buy  ...     Gain    Return  Position\n",
              "Date_Buy                                     ...                             \n",
              "2018-02-08 2018-02-08 2018-03-14   30555.80  ...  -765.99 -2.506856     short\n",
              "2018-03-14 2018-03-14 2018-03-26   31321.79  ... -1054.72 -3.367368      long\n",
              "2018-03-26 2018-03-26 2018-05-11   30267.07  ...  -884.73 -2.923078     short\n",
              "2018-05-11 2018-05-11 2018-05-31   31151.80  ...  -877.62 -2.817237      long\n",
              "2018-05-31 2018-05-31 2018-06-06   30274.18  ...  -887.84 -2.932664     short\n",
              "2018-06-06 2018-06-06 2018-06-19   31162.02  ... -1163.01 -3.732139      long\n",
              "2018-06-19 2018-06-19 2018-08-30   29999.01  ...  1465.08  4.883761     short\n",
              "2018-08-30 2018-08-30 2018-09-04   28533.93  ...  -914.75 -3.205832      long\n",
              "2018-09-04 2018-09-04 2018-09-27   27619.18  ...  -293.33 -1.062052     short\n",
              "2018-09-27 2018-09-27 2018-10-04   27912.51  ...  -883.11 -3.163850      long\n",
              "2018-10-04 2018-10-04 2018-11-09   27029.40  ...  1104.31  4.085588     short\n",
              "2018-11-09 2018-11-09 2018-11-13   25925.09  ...  -832.79 -3.212294      long\n",
              "2018-11-13 2018-11-13 2018-11-16   25092.30  ...  -949.26 -3.783073     short\n",
              "2018-11-16 2018-11-16 2018-12-12   26041.56  ...    12.45  0.047808      long\n",
              "2018-12-12 2018-12-12 2018-12-14   26054.01  ...  -164.99 -0.633261     short\n",
              "2018-12-14 2018-12-14 2018-12-17   26219.00  ...   -40.96 -0.156223      long\n",
              "2018-12-17 2018-12-17 2019-01-11   26178.04  ...  -513.98 -1.963401     short\n",
              "2019-01-11 2019-01-11 2019-05-08   26692.02  ...  2295.07  8.598338      long\n",
              "2019-05-08 2019-05-08 2019-06-21   28987.09  ...   405.58  1.399175     short\n",
              "2019-06-21 2019-06-21 2019-07-31   28581.51  ...  -650.23 -2.275002      long\n",
              "2019-07-31 2019-07-31 2019-09-10   27931.28  ...  1099.30  3.935731     short\n",
              "2019-09-10 2019-09-10        NaT   26831.98  ...      NaN       NaN      long\n",
              "\n",
              "[22 rows x 7 columns]"
            ]
          },
          "metadata": {
            "tags": []
          },
          "execution_count": 34
        }
      ]
    },
    {
      "cell_type": "code",
      "metadata": {
        "id": "56M3LSz6Oe6g",
        "colab_type": "code",
        "colab": {}
      },
      "source": [
        "df_sum[\"Gain\"].dropna().cumsum()"
      ],
      "execution_count": 0,
      "outputs": []
    },
    {
      "cell_type": "code",
      "metadata": {
        "id": "2diXIQYwOe6i",
        "colab_type": "code",
        "colab": {}
      },
      "source": [
        "df_sum[\"Gain\"].dropna().cumsum().plot(figsize=(15,10))"
      ],
      "execution_count": 0,
      "outputs": []
    },
    {
      "cell_type": "code",
      "metadata": {
        "id": "udmGGMkzOe6l",
        "colab_type": "code",
        "outputId": "bb03336d-2320-47b3-de9d-31b06160d3c1",
        "colab": {
          "base_uri": "https://localhost:8080/",
          "height": 886
        }
      },
      "source": [
        "candlestick_gen1(OHLC.loc[\"2017-07-01\":\"2017-07-31\"],data.loc[\"2017-07-01\":\"2017-07-31\"],buy_list,sell_list,\"C:/fig1.png\")"
      ],
      "execution_count": 37,
      "outputs": [
        {
          "output_type": "error",
          "ename": "FileNotFoundError",
          "evalue": "ignored",
          "traceback": [
            "\u001b[0;31m---------------------------------------------------------------------------\u001b[0m",
            "\u001b[0;31mFileNotFoundError\u001b[0m                         Traceback (most recent call last)",
            "\u001b[0;32m<ipython-input-37-f22049f0274b>\u001b[0m in \u001b[0;36m<module>\u001b[0;34m()\u001b[0m\n\u001b[0;32m----> 1\u001b[0;31m \u001b[0mcandlestick_gen1\u001b[0m\u001b[0;34m(\u001b[0m\u001b[0mOHLC\u001b[0m\u001b[0;34m.\u001b[0m\u001b[0mloc\u001b[0m\u001b[0;34m[\u001b[0m\u001b[0;34m\"2017-07-01\"\u001b[0m\u001b[0;34m:\u001b[0m\u001b[0;34m\"2017-07-31\"\u001b[0m\u001b[0;34m]\u001b[0m\u001b[0;34m,\u001b[0m\u001b[0mdata\u001b[0m\u001b[0;34m.\u001b[0m\u001b[0mloc\u001b[0m\u001b[0;34m[\u001b[0m\u001b[0;34m\"2017-07-01\"\u001b[0m\u001b[0;34m:\u001b[0m\u001b[0;34m\"2017-07-31\"\u001b[0m\u001b[0;34m]\u001b[0m\u001b[0;34m,\u001b[0m\u001b[0mbuy_list\u001b[0m\u001b[0;34m,\u001b[0m\u001b[0msell_list\u001b[0m\u001b[0;34m,\u001b[0m\u001b[0;34m\"C:/fig1.png\"\u001b[0m\u001b[0;34m)\u001b[0m\u001b[0;34m\u001b[0m\u001b[0;34m\u001b[0m\u001b[0m\n\u001b[0m",
            "\u001b[0;32m<ipython-input-13-9fc6692ded65>\u001b[0m in \u001b[0;36mcandlestick_gen1\u001b[0;34m(ohlc, df, list_buy, list_sell, path1)\u001b[0m\n\u001b[1;32m     66\u001b[0m \u001b[0;34m\u001b[0m\u001b[0m\n\u001b[1;32m     67\u001b[0m     \u001b[0;32mif\u001b[0m \u001b[0mpath1\u001b[0m \u001b[0;32mis\u001b[0m \u001b[0;32mnot\u001b[0m \u001b[0;32mNone\u001b[0m\u001b[0;34m:\u001b[0m\u001b[0;34m\u001b[0m\u001b[0;34m\u001b[0m\u001b[0m\n\u001b[0;32m---> 68\u001b[0;31m         \u001b[0mplt\u001b[0m\u001b[0;34m.\u001b[0m\u001b[0msavefig\u001b[0m\u001b[0;34m(\u001b[0m\u001b[0mpath1\u001b[0m\u001b[0;34m)\u001b[0m\u001b[0;34m\u001b[0m\u001b[0;34m\u001b[0m\u001b[0m\n\u001b[0m\u001b[1;32m     69\u001b[0m \u001b[0;34m\u001b[0m\u001b[0m\n\u001b[1;32m     70\u001b[0m \u001b[0;34m\u001b[0m\u001b[0m\n",
            "\u001b[0;32m/usr/local/lib/python3.6/dist-packages/matplotlib/pyplot.py\u001b[0m in \u001b[0;36msavefig\u001b[0;34m(*args, **kwargs)\u001b[0m\n\u001b[1;32m    687\u001b[0m \u001b[0;32mdef\u001b[0m \u001b[0msavefig\u001b[0m\u001b[0;34m(\u001b[0m\u001b[0;34m*\u001b[0m\u001b[0margs\u001b[0m\u001b[0;34m,\u001b[0m \u001b[0;34m**\u001b[0m\u001b[0mkwargs\u001b[0m\u001b[0;34m)\u001b[0m\u001b[0;34m:\u001b[0m\u001b[0;34m\u001b[0m\u001b[0;34m\u001b[0m\u001b[0m\n\u001b[1;32m    688\u001b[0m     \u001b[0mfig\u001b[0m \u001b[0;34m=\u001b[0m \u001b[0mgcf\u001b[0m\u001b[0;34m(\u001b[0m\u001b[0;34m)\u001b[0m\u001b[0;34m\u001b[0m\u001b[0;34m\u001b[0m\u001b[0m\n\u001b[0;32m--> 689\u001b[0;31m     \u001b[0mres\u001b[0m \u001b[0;34m=\u001b[0m \u001b[0mfig\u001b[0m\u001b[0;34m.\u001b[0m\u001b[0msavefig\u001b[0m\u001b[0;34m(\u001b[0m\u001b[0;34m*\u001b[0m\u001b[0margs\u001b[0m\u001b[0;34m,\u001b[0m \u001b[0;34m**\u001b[0m\u001b[0mkwargs\u001b[0m\u001b[0;34m)\u001b[0m\u001b[0;34m\u001b[0m\u001b[0;34m\u001b[0m\u001b[0m\n\u001b[0m\u001b[1;32m    690\u001b[0m     \u001b[0mfig\u001b[0m\u001b[0;34m.\u001b[0m\u001b[0mcanvas\u001b[0m\u001b[0;34m.\u001b[0m\u001b[0mdraw_idle\u001b[0m\u001b[0;34m(\u001b[0m\u001b[0;34m)\u001b[0m   \u001b[0;31m# need this if 'transparent=True' to reset colors\u001b[0m\u001b[0;34m\u001b[0m\u001b[0;34m\u001b[0m\u001b[0m\n\u001b[1;32m    691\u001b[0m     \u001b[0;32mreturn\u001b[0m \u001b[0mres\u001b[0m\u001b[0;34m\u001b[0m\u001b[0;34m\u001b[0m\u001b[0m\n",
            "\u001b[0;32m/usr/local/lib/python3.6/dist-packages/matplotlib/figure.py\u001b[0m in \u001b[0;36msavefig\u001b[0;34m(self, fname, frameon, transparent, **kwargs)\u001b[0m\n\u001b[1;32m   2092\u001b[0m             \u001b[0mself\u001b[0m\u001b[0;34m.\u001b[0m\u001b[0mset_frameon\u001b[0m\u001b[0;34m(\u001b[0m\u001b[0mframeon\u001b[0m\u001b[0;34m)\u001b[0m\u001b[0;34m\u001b[0m\u001b[0;34m\u001b[0m\u001b[0m\n\u001b[1;32m   2093\u001b[0m \u001b[0;34m\u001b[0m\u001b[0m\n\u001b[0;32m-> 2094\u001b[0;31m         \u001b[0mself\u001b[0m\u001b[0;34m.\u001b[0m\u001b[0mcanvas\u001b[0m\u001b[0;34m.\u001b[0m\u001b[0mprint_figure\u001b[0m\u001b[0;34m(\u001b[0m\u001b[0mfname\u001b[0m\u001b[0;34m,\u001b[0m \u001b[0;34m**\u001b[0m\u001b[0mkwargs\u001b[0m\u001b[0;34m)\u001b[0m\u001b[0;34m\u001b[0m\u001b[0;34m\u001b[0m\u001b[0m\n\u001b[0m\u001b[1;32m   2095\u001b[0m \u001b[0;34m\u001b[0m\u001b[0m\n\u001b[1;32m   2096\u001b[0m         \u001b[0;32mif\u001b[0m \u001b[0mframeon\u001b[0m\u001b[0;34m:\u001b[0m\u001b[0;34m\u001b[0m\u001b[0;34m\u001b[0m\u001b[0m\n",
            "\u001b[0;32m/usr/local/lib/python3.6/dist-packages/matplotlib/backend_bases.py\u001b[0m in \u001b[0;36mprint_figure\u001b[0;34m(self, filename, dpi, facecolor, edgecolor, orientation, format, bbox_inches, **kwargs)\u001b[0m\n\u001b[1;32m   2073\u001b[0m                     \u001b[0morientation\u001b[0m\u001b[0;34m=\u001b[0m\u001b[0morientation\u001b[0m\u001b[0;34m,\u001b[0m\u001b[0;34m\u001b[0m\u001b[0;34m\u001b[0m\u001b[0m\n\u001b[1;32m   2074\u001b[0m                     \u001b[0mbbox_inches_restore\u001b[0m\u001b[0;34m=\u001b[0m\u001b[0m_bbox_inches_restore\u001b[0m\u001b[0;34m,\u001b[0m\u001b[0;34m\u001b[0m\u001b[0;34m\u001b[0m\u001b[0m\n\u001b[0;32m-> 2075\u001b[0;31m                     **kwargs)\n\u001b[0m\u001b[1;32m   2076\u001b[0m             \u001b[0;32mfinally\u001b[0m\u001b[0;34m:\u001b[0m\u001b[0;34m\u001b[0m\u001b[0;34m\u001b[0m\u001b[0m\n\u001b[1;32m   2077\u001b[0m                 \u001b[0;32mif\u001b[0m \u001b[0mbbox_inches\u001b[0m \u001b[0;32mand\u001b[0m \u001b[0mrestore_bbox\u001b[0m\u001b[0;34m:\u001b[0m\u001b[0;34m\u001b[0m\u001b[0;34m\u001b[0m\u001b[0m\n",
            "\u001b[0;32m/usr/local/lib/python3.6/dist-packages/matplotlib/backends/backend_agg.py\u001b[0m in \u001b[0;36mprint_png\u001b[0;34m(self, filename_or_obj, *args, **kwargs)\u001b[0m\n\u001b[1;32m    519\u001b[0m \u001b[0;34m\u001b[0m\u001b[0m\n\u001b[1;32m    520\u001b[0m         \u001b[0;32mwith\u001b[0m \u001b[0mcbook\u001b[0m\u001b[0;34m.\u001b[0m\u001b[0m_setattr_cm\u001b[0m\u001b[0;34m(\u001b[0m\u001b[0mrenderer\u001b[0m\u001b[0;34m,\u001b[0m \u001b[0mdpi\u001b[0m\u001b[0;34m=\u001b[0m\u001b[0mself\u001b[0m\u001b[0;34m.\u001b[0m\u001b[0mfigure\u001b[0m\u001b[0;34m.\u001b[0m\u001b[0mdpi\u001b[0m\u001b[0;34m)\u001b[0m\u001b[0;34m,\u001b[0m\u001b[0;31m \u001b[0m\u001b[0;31m\\\u001b[0m\u001b[0;34m\u001b[0m\u001b[0;34m\u001b[0m\u001b[0m\n\u001b[0;32m--> 521\u001b[0;31m                 \u001b[0mcbook\u001b[0m\u001b[0;34m.\u001b[0m\u001b[0mopen_file_cm\u001b[0m\u001b[0;34m(\u001b[0m\u001b[0mfilename_or_obj\u001b[0m\u001b[0;34m,\u001b[0m \u001b[0;34m\"wb\"\u001b[0m\u001b[0;34m)\u001b[0m \u001b[0;32mas\u001b[0m \u001b[0mfh\u001b[0m\u001b[0;34m:\u001b[0m\u001b[0;34m\u001b[0m\u001b[0;34m\u001b[0m\u001b[0m\n\u001b[0m\u001b[1;32m    522\u001b[0m             _png.write_png(renderer._renderer, fh,\n\u001b[1;32m    523\u001b[0m                             self.figure.dpi, metadata=metadata)\n",
            "\u001b[0;32m/usr/lib/python3.6/contextlib.py\u001b[0m in \u001b[0;36m__enter__\u001b[0;34m(self)\u001b[0m\n\u001b[1;32m     79\u001b[0m     \u001b[0;32mdef\u001b[0m \u001b[0m__enter__\u001b[0m\u001b[0;34m(\u001b[0m\u001b[0mself\u001b[0m\u001b[0;34m)\u001b[0m\u001b[0;34m:\u001b[0m\u001b[0;34m\u001b[0m\u001b[0;34m\u001b[0m\u001b[0m\n\u001b[1;32m     80\u001b[0m         \u001b[0;32mtry\u001b[0m\u001b[0;34m:\u001b[0m\u001b[0;34m\u001b[0m\u001b[0;34m\u001b[0m\u001b[0m\n\u001b[0;32m---> 81\u001b[0;31m             \u001b[0;32mreturn\u001b[0m \u001b[0mnext\u001b[0m\u001b[0;34m(\u001b[0m\u001b[0mself\u001b[0m\u001b[0;34m.\u001b[0m\u001b[0mgen\u001b[0m\u001b[0;34m)\u001b[0m\u001b[0;34m\u001b[0m\u001b[0;34m\u001b[0m\u001b[0m\n\u001b[0m\u001b[1;32m     82\u001b[0m         \u001b[0;32mexcept\u001b[0m \u001b[0mStopIteration\u001b[0m\u001b[0;34m:\u001b[0m\u001b[0;34m\u001b[0m\u001b[0;34m\u001b[0m\u001b[0m\n\u001b[1;32m     83\u001b[0m             \u001b[0;32mraise\u001b[0m \u001b[0mRuntimeError\u001b[0m\u001b[0;34m(\u001b[0m\u001b[0;34m\"generator didn't yield\"\u001b[0m\u001b[0;34m)\u001b[0m \u001b[0;32mfrom\u001b[0m \u001b[0;32mNone\u001b[0m\u001b[0;34m\u001b[0m\u001b[0;34m\u001b[0m\u001b[0m\n",
            "\u001b[0;32m/usr/local/lib/python3.6/dist-packages/matplotlib/cbook/__init__.py\u001b[0m in \u001b[0;36mopen_file_cm\u001b[0;34m(path_or_file, mode, encoding)\u001b[0m\n\u001b[1;32m    405\u001b[0m \u001b[0;32mdef\u001b[0m \u001b[0mopen_file_cm\u001b[0m\u001b[0;34m(\u001b[0m\u001b[0mpath_or_file\u001b[0m\u001b[0;34m,\u001b[0m \u001b[0mmode\u001b[0m\u001b[0;34m=\u001b[0m\u001b[0;34m\"r\"\u001b[0m\u001b[0;34m,\u001b[0m \u001b[0mencoding\u001b[0m\u001b[0;34m=\u001b[0m\u001b[0;32mNone\u001b[0m\u001b[0;34m)\u001b[0m\u001b[0;34m:\u001b[0m\u001b[0;34m\u001b[0m\u001b[0;34m\u001b[0m\u001b[0m\n\u001b[1;32m    406\u001b[0m     \u001b[0;34mr\"\"\"Pass through file objects and context-manage `.PathLike`\\s.\"\"\"\u001b[0m\u001b[0;34m\u001b[0m\u001b[0;34m\u001b[0m\u001b[0m\n\u001b[0;32m--> 407\u001b[0;31m     \u001b[0mfh\u001b[0m\u001b[0;34m,\u001b[0m \u001b[0mopened\u001b[0m \u001b[0;34m=\u001b[0m \u001b[0mto_filehandle\u001b[0m\u001b[0;34m(\u001b[0m\u001b[0mpath_or_file\u001b[0m\u001b[0;34m,\u001b[0m \u001b[0mmode\u001b[0m\u001b[0;34m,\u001b[0m \u001b[0;32mTrue\u001b[0m\u001b[0;34m,\u001b[0m \u001b[0mencoding\u001b[0m\u001b[0;34m)\u001b[0m\u001b[0;34m\u001b[0m\u001b[0;34m\u001b[0m\u001b[0m\n\u001b[0m\u001b[1;32m    408\u001b[0m     \u001b[0;32mif\u001b[0m \u001b[0mopened\u001b[0m\u001b[0;34m:\u001b[0m\u001b[0;34m\u001b[0m\u001b[0;34m\u001b[0m\u001b[0m\n\u001b[1;32m    409\u001b[0m         \u001b[0;32mwith\u001b[0m \u001b[0mfh\u001b[0m\u001b[0;34m:\u001b[0m\u001b[0;34m\u001b[0m\u001b[0;34m\u001b[0m\u001b[0m\n",
            "\u001b[0;32m/usr/local/lib/python3.6/dist-packages/matplotlib/cbook/__init__.py\u001b[0m in \u001b[0;36mto_filehandle\u001b[0;34m(fname, flag, return_opened, encoding)\u001b[0m\n\u001b[1;32m    390\u001b[0m             \u001b[0mfh\u001b[0m \u001b[0;34m=\u001b[0m \u001b[0mbz2\u001b[0m\u001b[0;34m.\u001b[0m\u001b[0mBZ2File\u001b[0m\u001b[0;34m(\u001b[0m\u001b[0mfname\u001b[0m\u001b[0;34m,\u001b[0m \u001b[0mflag\u001b[0m\u001b[0;34m)\u001b[0m\u001b[0;34m\u001b[0m\u001b[0;34m\u001b[0m\u001b[0m\n\u001b[1;32m    391\u001b[0m         \u001b[0;32melse\u001b[0m\u001b[0;34m:\u001b[0m\u001b[0;34m\u001b[0m\u001b[0;34m\u001b[0m\u001b[0m\n\u001b[0;32m--> 392\u001b[0;31m             \u001b[0mfh\u001b[0m \u001b[0;34m=\u001b[0m \u001b[0mopen\u001b[0m\u001b[0;34m(\u001b[0m\u001b[0mfname\u001b[0m\u001b[0;34m,\u001b[0m \u001b[0mflag\u001b[0m\u001b[0;34m,\u001b[0m \u001b[0mencoding\u001b[0m\u001b[0;34m=\u001b[0m\u001b[0mencoding\u001b[0m\u001b[0;34m)\u001b[0m\u001b[0;34m\u001b[0m\u001b[0;34m\u001b[0m\u001b[0m\n\u001b[0m\u001b[1;32m    393\u001b[0m         \u001b[0mopened\u001b[0m \u001b[0;34m=\u001b[0m \u001b[0;32mTrue\u001b[0m\u001b[0;34m\u001b[0m\u001b[0;34m\u001b[0m\u001b[0m\n\u001b[1;32m    394\u001b[0m     \u001b[0;32melif\u001b[0m \u001b[0mhasattr\u001b[0m\u001b[0;34m(\u001b[0m\u001b[0mfname\u001b[0m\u001b[0;34m,\u001b[0m \u001b[0;34m'seek'\u001b[0m\u001b[0;34m)\u001b[0m\u001b[0;34m:\u001b[0m\u001b[0;34m\u001b[0m\u001b[0;34m\u001b[0m\u001b[0m\n",
            "\u001b[0;31mFileNotFoundError\u001b[0m: [Errno 2] No such file or directory: 'C:/fig1.png'"
          ]
        },
        {
          "output_type": "display_data",
          "data": {
            "image/png": "[encoded data removed]",
            "text/plain": [
              "<Figure size 1080x720 with 4 Axes>"
            ]
          },
          "metadata": {
            "tags": []
          }
        }
      ]
    },
    {
      "cell_type": "markdown",
      "metadata": {
        "id": "aj5lYpVrOe6n",
        "colab_type": "raw"
      },
      "source": [
        "please refer to the following link for details on the use of the TA-Lib please refer to the following link\n",
        "\n",
        "https://mrjbq7.github.io/ta-lib/doc_index.html"
      ]
    },
    {
      "cell_type": "markdown",
      "metadata": {
        "id": "80haCQ26Oe6o",
        "colab_type": "text"
      },
      "source": [
        "## Another example"
      ]
    },
    {
      "cell_type": "markdown",
      "metadata": {
        "id": "cMmeAIquOe6o",
        "colab_type": "raw"
      },
      "source": [
        "Long:\n",
        "\n",
        "Enter: when T0: EMA9 cross over up EMA19 and T+2: EMA9-EMA19>=N(e.g. 100)\n",
        "\n",
        "Exit: when EMA9 cross over down EMA19 or stop_loss(?)\n",
        "\n",
        "Short:\n",
        "\n",
        "Enter: when T0: EMA9 cross over down EMA19 T+2:EMA19-EMA9>=N(e.g. 100)\n",
        "\n",
        "Exit: when EMA9 cross over up EMA19 or stop_loss(?)\n",
        "    \n"
      ]
    },
    {
      "cell_type": "markdown",
      "metadata": {
        "id": "BRGOubyiOe6p",
        "colab_type": "text"
      },
      "source": [
        "### To count the number of enter in long position"
      ]
    },
    {
      "cell_type": "code",
      "metadata": {
        "id": "FROQ8nVeOe6q",
        "colab_type": "code",
        "colab": {}
      },
      "source": [
        "enter=cross_over_up(data1,\"EMA9\",\"EMA19\")"
      ],
      "execution_count": 0,
      "outputs": []
    },
    {
      "cell_type": "code",
      "metadata": {
        "id": "nXHlxAWZOe6t",
        "colab_type": "code",
        "colab": {}
      },
      "source": [
        "enter=enter.shift(2).fillna(0).astype(int)"
      ],
      "execution_count": 0,
      "outputs": []
    },
    {
      "cell_type": "code",
      "metadata": {
        "id": "sueIVxE8Oe6u",
        "colab_type": "code",
        "colab": {}
      },
      "source": [
        "enter1=EMA_diff_up(data1,\"EMA9\",\"EMA19\")"
      ],
      "execution_count": 0,
      "outputs": []
    },
    {
      "cell_type": "code",
      "metadata": {
        "id": "w4OIbCfKOe6w",
        "colab_type": "code",
        "colab": {}
      },
      "source": [
        "enter2=(enter) & (enter1)"
      ],
      "execution_count": 0,
      "outputs": []
    },
    {
      "cell_type": "code",
      "metadata": {
        "id": "SkkwrAS9Oe6x",
        "colab_type": "code",
        "outputId": "aa960a91-10c5-4e7c-e9c3-1fc312951f24",
        "colab": {}
      },
      "source": [
        "sum(enter2)"
      ],
      "execution_count": 0,
      "outputs": [
        {
          "output_type": "execute_result",
          "data": {
            "text/plain": [
              "5"
            ]
          },
          "metadata": {
            "tags": []
          },
          "execution_count": 181
        }
      ]
    },
    {
      "cell_type": "code",
      "metadata": {
        "id": "iJCQrTPmOe6z",
        "colab_type": "code",
        "outputId": "3f426b83-0df7-4275-b983-490eab8f7330",
        "colab": {}
      },
      "source": [
        "enter2[enter2==1].index.astype(str).tolist()"
      ],
      "execution_count": 0,
      "outputs": [
        {
          "output_type": "execute_result",
          "data": {
            "text/plain": [
              "['2018-03-15', '2018-05-14', '2018-06-07', '2019-01-14', '2019-06-24']"
            ]
          },
          "metadata": {
            "tags": []
          },
          "execution_count": 184
        }
      ]
    },
    {
      "cell_type": "code",
      "metadata": {
        "id": "WflWKNPZOe62",
        "colab_type": "code",
        "colab": {}
      },
      "source": [
        ""
      ],
      "execution_count": 0,
      "outputs": []
    }
  ]
}